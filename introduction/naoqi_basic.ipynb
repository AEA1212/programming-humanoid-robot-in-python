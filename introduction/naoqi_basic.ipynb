{
 "cells": [
  {
   "cell_type": "markdown",
   "id": "874258cf",
   "metadata": {},
   "source": [
    "# NAOqi Basic"
   ]
  },
  {
   "cell_type": "code",
   "execution_count": 7,
   "id": "df508526",
   "metadata": {
    "ExecuteTime": {
     "end_time": "2024-10-19T21:37:03.649476Z",
     "start_time": "2024-10-19T21:37:03.544803Z"
    },
    "collapsed": false,
    "jupyter": {
     "outputs_hidden": false
    }
   },
   "outputs": [
    {
     "ename": "ModuleNotFoundError",
     "evalue": "No module named 'naoqi'",
     "output_type": "error",
     "traceback": [
      "\u001b[0;31m---------------------------------------------------------------------------\u001b[0m",
      "\u001b[0;31mModuleNotFoundError\u001b[0m                       Traceback (most recent call last)",
      "Cell \u001b[0;32mIn[7], line 1\u001b[0m\n\u001b[0;32m----> 1\u001b[0m \u001b[38;5;28;01mfrom\u001b[39;00m \u001b[38;5;21;01mnaoqi\u001b[39;00m \u001b[38;5;28;01mimport\u001b[39;00m ALProxy\n",
      "\u001b[0;31mModuleNotFoundError\u001b[0m: No module named 'naoqi'"
     ]
    }
   ],
   "source": [
    "from naoqi import ALProxy"
   ]
  },
  {
   "cell_type": "code",
   "execution_count": 2,
   "id": "3cb10a5f",
   "metadata": {
    "collapsed": false,
    "jupyter": {
     "outputs_hidden": false
    }
   },
   "outputs": [],
   "source": [
    "tts = ALProxy('ALTextToSpeech', 'nao6.local', 9559)"
   ]
  },
  {
   "cell_type": "code",
   "execution_count": 4,
   "id": "bf562dd0",
   "metadata": {
    "collapsed": false,
    "jupyter": {
     "outputs_hidden": false
    }
   },
   "outputs": [],
   "source": [
    "tts.say('Hi, I am here. Have you enjoy?')"
   ]
  },
  {
   "cell_type": "code",
   "execution_count": 5,
   "id": "86b6310e",
   "metadata": {
    "collapsed": false,
    "jupyter": {
     "outputs_hidden": false
    }
   },
   "outputs": [],
   "source": [
    "motion = ALProxy('ALMotion', 'nao6.local', 9559)"
   ]
  },
  {
   "cell_type": "code",
   "execution_count": 6,
   "id": "279f8ba2",
   "metadata": {
    "collapsed": false,
    "jupyter": {
     "outputs_hidden": false
    }
   },
   "outputs": [],
   "source": [
    "motion.wakeUp()"
   ]
  },
  {
   "cell_type": "code",
   "execution_count": 7,
   "id": "1f85943e",
   "metadata": {
    "collapsed": false,
    "jupyter": {
     "outputs_hidden": false
    }
   },
   "outputs": [],
   "source": [
    "motion.rest()"
   ]
  },
  {
   "cell_type": "code",
   "execution_count": null,
   "id": "a84f5fdb",
   "metadata": {
    "collapsed": false,
    "jupyter": {
     "outputs_hidden": false
    }
   },
   "outputs": [],
   "source": []
  }
 ],
 "metadata": {
  "kernel_info": {
   "display_name": "Python 3 (ipykernel)",
   "language": "python",
   "name": "python3"
  },
  "kernelspec": {
   "display_name": "Python 3 (ipykernel)",
   "language": "python",
   "name": "python3"
  },
  "language_info": {
   "codemirror_mode": {
    "name": "ipython",
    "version": 3
   },
   "file_extension": ".py",
   "mimetype": "text/x-python",
   "name": "python",
   "nbconvert_exporter": "python",
   "pygments_lexer": "ipython3",
   "version": "3.12.3"
  }
 },
 "nbformat": 4,
 "nbformat_minor": 5
}
