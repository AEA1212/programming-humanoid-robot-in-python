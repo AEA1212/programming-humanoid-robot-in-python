{
 "metadata": {
  "name": "",
  "kernel_info": {
   "name": "python3",
   "language": "python",
   "display_name": "Python 3 (ipykernel)"
  }
 },
 "nbformat": 3,
 "nbformat_minor": 0,
 "worksheets": [
  {
   "cells": [
    {
     "cell_type": "heading",
     "level": 1,
     "metadata": {},
     "source": [
      "NAOqi Basic"
     ]
    },
    {
     "cell_type": "code",
     "collapsed": false,
     "input": "from naoqi import ALProxy",
     "language": "python",
     "metadata": {
      "ExecuteTime": {
       "end_time": "2024-10-19T21:37:03.649476Z",
       "start_time": "2024-10-19T21:37:03.544803Z"
      }
     },
     "outputs": [
      {
       "ename": "ModuleNotFoundError",
       "evalue": "No module named 'naoqi'",
       "output_type": "pyerr",
       "traceback": [
        "\u001B[0;31m---------------------------------------------------------------------------\u001B[0m",
        "\u001B[0;31mModuleNotFoundError\u001B[0m                       Traceback (most recent call last)",
        "Cell \u001B[0;32mIn[1], line 1\u001B[0m\n\u001B[0;32m----> 1\u001B[0m \u001B[38;5;28;01mfrom\u001B[39;00m \u001B[38;5;21;01mnaoqi\u001B[39;00m \u001B[38;5;28;01mimport\u001B[39;00m ALProxy\n",
        "\u001B[0;31mModuleNotFoundError\u001B[0m: No module named 'naoqi'"
       ]
      }
     ],
     "prompt_number": 1
    },
    {
     "cell_type": "code",
     "collapsed": false,
     "input": [
      "tts = ALProxy('ALTextToSpeech', 'nao6.local', 9559)"
     ],
     "language": "python",
     "metadata": {},
     "outputs": [],
     "prompt_number": 2
    },
    {
     "cell_type": "code",
     "collapsed": false,
     "input": [
      "tts.say('Hi, I am here. Have you enjoy?')"
     ],
     "language": "python",
     "metadata": {},
     "outputs": [],
     "prompt_number": 4
    },
    {
     "cell_type": "code",
     "collapsed": false,
     "input": [
      "motion = ALProxy('ALMotion', 'nao6.local', 9559)"
     ],
     "language": "python",
     "metadata": {},
     "outputs": [],
     "prompt_number": 5
    },
    {
     "cell_type": "code",
     "collapsed": false,
     "input": [
      "motion.wakeUp()"
     ],
     "language": "python",
     "metadata": {},
     "outputs": [],
     "prompt_number": 6
    },
    {
     "cell_type": "code",
     "collapsed": false,
     "input": [
      "motion.rest()"
     ],
     "language": "python",
     "metadata": {},
     "outputs": [],
     "prompt_number": 7
    },
    {
     "cell_type": "code",
     "collapsed": false,
     "input": [],
     "language": "python",
     "metadata": {},
     "outputs": []
    }
   ],
   "metadata": {}
  }
 ]
}
